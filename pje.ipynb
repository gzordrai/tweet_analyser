{
 "cells": [
  {
   "cell_type": "markdown",
   "metadata": {},
   "source": [
    "# PJE B - Data Analysis"
   ]
  },
  {
   "cell_type": "markdown",
   "metadata": {},
   "source": [
    "## Data cleaning\n",
    "\n",
    "For each tweet that we want to analyze, we need to clean the tweet to follow the rules and assist our analysis.\n",
    "\n",
    "### Rules\n",
    "\n",
    "- Remove mentions:\n",
    "    - old: `@user how are you ?`\n",
    "    - new: `how are you ?`\n",
    "\n",
    "- Remove hashtags:\n",
    "    - old: `This is so cool #music`\n",
    "    - new: `This is so cool`\n",
    "\n",
    "- Remove retweets:\n",
    "\n",
    "- Remove link:\n",
    "    - old: `I love this castle http://castle.com`\n",
    "    - new: `I love this castle`\n",
    "\n",
    "- Remove integrated link:\n",
    "    - old: `Check this out - http://link.com`\n",
    "    - new: `None`\n",
    "\n",
    "- Remove happy and sad emoticons in the same tweet:\n",
    "    - old: `I love this new music :) but there is no tourney soon :(`\n",
    "    - new: `None`\n",
    "\n",
    "- Add space before punctutation only if there's a letter before\n",
    "    - old: `Hello!`\n",
    "    - new: `Hello !`"
   ]
  },
  {
   "cell_type": "code",
   "execution_count": 5,
   "metadata": {},
   "outputs": [],
   "source": [
    "from csv import reader\n",
    "from os import getcwd\n",
    "from os.path import join\n",
    "from re import sub\n",
    "\n",
    "def clean_data(data: str) -> str:\n",
    "    patterns = [\n",
    "        (r\"@[a-zA-Z0-9]+\", \"\"),                                                                         # Remove mentions\n",
    "        (r\"#[a-zA-Z0-9]+\", \"\"),                                                                         # Remove hashtags\n",
    "        (r\"RT\", \"\"),                                                                                    # Remove retweets\n",
    "        (r\".+ - http[s]?://(?:[a-zA-Z]|[0-9]|[$-_@.&+]|[!*\\\\(\\\\),]|(?:%[0-9a-fA-F][0-9a-fA-F]))+\", \"\"), # Remove attached links\n",
    "        (r\"http[s]?://(?:[a-zA-Z]|[0-9]|[$-_@.&+]|[!*\\\\(\\\\),]|(?:%[0-9a-fA-F][0-9a-fA-F]))+\", \"\"),      # Remove links\n",
    "        (r\".*[:;][\\)][^\\n]*[:;][\\(].*|.*[:;][\\(][^\\n]*[:;][\\)].*\", \"\"),                                 # Remove happy and sad emoticons in the same tweet\n",
    "        (r\"(?<=[a-zA-Z])[!\\?\\\"\\.;,]\", r\" \\g<0>\"),                                                       # Add space before punctuation only if there's a letter before\n",
    "        (r\"\", \"\")                                                                                       # Remove any remaining whitespace\n",
    "    ]\n",
    "\n",
    "    for pattern in patterns:\n",
    "        if data == \"\":\n",
    "            break\n",
    "\n",
    "        data = sub(pattern[0], pattern[1], data)\n",
    "\n",
    "    return data\n",
    "\n",
    "if __name__ == \"__main__\":\n",
    "    with open(join(getcwd(), \"inputs/testdata.manual.2009.06.14.csv\"), \"r\") as f, open(join(getcwd(), \"output/cleaned_data.csv\"), \"w\") as o:\n",
    "        cleaned_data: set = set()\n",
    "\n",
    "        for row in reader(f):\n",
    "            data: str = clean_data(row[5])\n",
    "\n",
    "            if data in cleaned_data:\n",
    "                continue\n",
    "\n",
    "            cleaned_data.add(data)\n",
    "\n",
    "            if data != \"\":\n",
    "                o.write(','.join(map(lambda x : f\"\\\"{x}\\\"\", row[:5])) + ',\\\"' + data.replace(\"\\\"\", \"\\\"\\\"\") + \"\\\"\\n\")"
   ]
  }
 ],
 "metadata": {
  "kernelspec": {
   "display_name": "pje",
   "language": "python",
   "name": "python3"
  },
  "language_info": {
   "codemirror_mode": {
    "name": "ipython",
    "version": 3
   },
   "file_extension": ".py",
   "mimetype": "text/x-python",
   "name": "python",
   "nbconvert_exporter": "python",
   "pygments_lexer": "ipython3",
   "version": "3.12.4"
  }
 },
 "nbformat": 4,
 "nbformat_minor": 2
}
